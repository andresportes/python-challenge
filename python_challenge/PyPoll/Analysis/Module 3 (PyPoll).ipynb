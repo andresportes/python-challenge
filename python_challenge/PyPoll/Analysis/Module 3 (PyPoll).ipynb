{
 "cells": [
  {
   "cell_type": "code",
   "execution_count": 1,
   "id": "daa15ff3",
   "metadata": {},
   "outputs": [
    {
     "name": "stdout",
     "output_type": "stream",
     "text": [
      "/Users/dre/Desktop/python_challenge/PyPoll/Analysis\r\n"
     ]
    }
   ],
   "source": [
    "!pwd\n"
   ]
  },
  {
   "cell_type": "code",
   "execution_count": 2,
   "id": "3d901945",
   "metadata": {},
   "outputs": [],
   "source": [
    "import os\n",
    "import csv\n",
    "\n",
    "csvpath = os.path.join('..','Resources','election_data.csv')"
   ]
  },
  {
   "cell_type": "code",
   "execution_count": 3,
   "id": "9aee996c",
   "metadata": {},
   "outputs": [
    {
     "name": "stdout",
     "output_type": "stream",
     "text": [
      "Total votes: 369711\n",
      "Charles Casper Stockham: 23.05% 85213\n",
      "Diana DeGette: 73.81% 272892\n",
      "Raymon Anthony Doane: 3.14% 11606\n",
      "Winner: Diana DeGette\n"
     ]
    }
   ],
   "source": [
    "candidates = {}\n",
    "\n",
    "with open(csvpath, 'r') as file:\n",
    "    reader = csv.reader(file)\n",
    "    next(reader)\n",
    "    total_votes = 0\n",
    "    winner = \"\"\n",
    "    for row in reader:\n",
    "        candidate_name = row[2]\n",
    "        if candidate_name not in candidates:\n",
    "            candidates[candidate_name] = 1\n",
    "        else:\n",
    "            candidates[candidate_name] += 1\n",
    "        total_votes += 1\n",
    "    \n",
    "winner = max(candidates, key=candidates.get)    \n",
    "\n",
    "print(f'Total votes: {total_votes}')\n",
    "for candidate, votes in candidates.items():\n",
    "    percentage = (votes / total_votes) * 100\n",
    "    print(f\"{candidate}: {percentage:.2f}%\",candidates[candidate])\n",
    "#print(f'Winner: Diana DeGette')\n",
    "print(f'Winner: {winner}')\n"
   ]
  },
  {
   "cell_type": "code",
   "execution_count": null,
   "id": "50536b7c",
   "metadata": {},
   "outputs": [],
   "source": []
  }
 ],
 "metadata": {
  "kernelspec": {
   "display_name": "Python 3 (ipykernel)",
   "language": "python",
   "name": "python3"
  },
  "language_info": {
   "codemirror_mode": {
    "name": "ipython",
    "version": 3
   },
   "file_extension": ".py",
   "mimetype": "text/x-python",
   "name": "python",
   "nbconvert_exporter": "python",
   "pygments_lexer": "ipython3",
   "version": "3.11.4"
  }
 },
 "nbformat": 4,
 "nbformat_minor": 5
}
